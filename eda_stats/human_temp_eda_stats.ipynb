{
 "cells": [
  {
   "cell_type": "markdown",
   "metadata": {},
   "source": [
    "# What is the True Normal Human Body Temperature? \n",
    "\n",
    "#### Background\n",
    "\n",
    "The mean normal body temperature was held to be 37$^{\\circ}$C or 98.6$^{\\circ}$F for more than 120 years since it was first conceptualized and reported by Carl Wunderlich in a famous 1868 book. But, is this value statistically correct?"
   ]
  },
  {
   "cell_type": "markdown",
   "metadata": {},
   "source": [
    "<h3>Exercises</h3>\n",
    "\n",
    "<p>In this exercise, you will analyze a dataset of human body temperatures and employ the concepts of hypothesis testing, confidence intervals, and statistical significance.</p>\n",
    "\n",
    "<p>Answer the following questions <b>in this notebook below and submit to your Github account</b>.</p> \n",
    "\n",
    "<ol>\n",
    "<li>  Is the distribution of body temperatures normal? \n",
    "    <ul>\n",
    "    <li> Although this is not a requirement for CLT to hold (read CLT carefully), it gives us some peace of mind that the population may also be normally distributed if we assume that this sample is representative of the population.\n",
    "    </ul>\n",
    "<li>  Is the sample size large? Are the observations independent?\n",
    "    <ul>\n",
    "    <li> Remember that this is a condition for the CLT, and hence the statistical tests we are using, to apply.\n",
    "    </ul>\n",
    "<li>  Is the true population mean really 98.6 degrees F?\n",
    "    <ul>\n",
    "    <li> Would you use a one-sample or two-sample test? Why?\n",
    "    <li> In this situation, is it appropriate to use the $t$ or $z$ statistic? \n",
    "    <li> Now try using the other test. How is the result be different? Why?\n",
    "    </ul>\n",
    "<li>  Draw a small sample of size 10 from the data and repeat both tests. \n",
    "    <ul>\n",
    "    <li> Which one is the correct one to use? \n",
    "    <li> What do you notice? What does this tell you about the difference in application of the $t$ and $z$ statistic?\n",
    "    </ul>\n",
    "<li>  At what temperature should we consider someone's temperature to be \"abnormal\"?\n",
    "    <ul>\n",
    "    <li> Start by computing the margin of error and confidence interval.\n",
    "    </ul>\n",
    "<li>  Is there a significant difference between males and females in normal temperature?\n",
    "    <ul>\n",
    "    <li> What test did you use and why?\n",
    "    <li> Write a story with your conclusion in the context of the original problem.\n",
    "    </ul>\n",
    "</ol>\n",
    "\n",
    "You can include written notes in notebook cells using Markdown: \n",
    "   - In the control panel at the top, choose Cell > Cell Type > Markdown\n",
    "   - Markdown syntax: http://nestacms.com/docs/creating-content/markdown-cheat-sheet\n",
    "\n",
    "#### Resources\n",
    "\n",
    "+ Information and data sources: http://www.amstat.org/publications/jse/datasets/normtemp.txt, http://www.amstat.org/publications/jse/jse_data_archive.htm\n",
    "+ Markdown syntax: http://nestacms.com/docs/creating-content/markdown-cheat-sheet\n",
    "\n",
    "****"
   ]
  },
  {
   "cell_type": "markdown",
   "metadata": {},
   "source": [
    "#### Preliminary\n",
    "\n",
    "* import libraries\n",
    "* load data\n",
    "* examine and get summary stats\n",
    "* plot histogram of data and sample (130) of normal distribution for comparison"
   ]
  },
  {
   "cell_type": "code",
   "execution_count": null,
   "metadata": {
    "collapsed": true
   },
   "outputs": [],
   "source": []
  },
  {
   "cell_type": "code",
   "execution_count": 1,
   "metadata": {},
   "outputs": [
    {
     "name": "stderr",
     "output_type": "stream",
     "text": [
      "C:\\Users\\saus\\Anaconda3\\lib\\site-packages\\statsmodels\\compat\\pandas.py:56: FutureWarning: The pandas.core.datetools module is deprecated and will be removed in a future version. Please use the pandas.tseries module instead.\n",
      "  from pandas.core import datetools\n"
     ]
    }
   ],
   "source": [
    "import matplotlib.pyplot as plt\n",
    "%matplotlib inline\n",
    "import numpy as np\n",
    "from scipy import stats\n",
    "import statsmodels.api as sm\n",
    "from statsmodels.stats import weightstats as stests\n",
    "import seaborn as sns\n",
    "sns.set()"
   ]
  },
  {
   "cell_type": "code",
   "execution_count": 2,
   "metadata": {
    "collapsed": true
   },
   "outputs": [],
   "source": [
    "import pandas as pd\n",
    "\n",
    "df = pd.read_csv('data/human_body_temperature.csv')"
   ]
  },
  {
   "cell_type": "code",
   "execution_count": 3,
   "metadata": {},
   "outputs": [
    {
     "data": {
      "text/html": [
       "<div>\n",
       "<style>\n",
       "    .dataframe thead tr:only-child th {\n",
       "        text-align: right;\n",
       "    }\n",
       "\n",
       "    .dataframe thead th {\n",
       "        text-align: left;\n",
       "    }\n",
       "\n",
       "    .dataframe tbody tr th {\n",
       "        vertical-align: top;\n",
       "    }\n",
       "</style>\n",
       "<table border=\"1\" class=\"dataframe\">\n",
       "  <thead>\n",
       "    <tr style=\"text-align: right;\">\n",
       "      <th></th>\n",
       "      <th>temperature</th>\n",
       "      <th>gender</th>\n",
       "      <th>heart_rate</th>\n",
       "    </tr>\n",
       "  </thead>\n",
       "  <tbody>\n",
       "    <tr>\n",
       "      <th>0</th>\n",
       "      <td>99.3</td>\n",
       "      <td>F</td>\n",
       "      <td>68.0</td>\n",
       "    </tr>\n",
       "    <tr>\n",
       "      <th>1</th>\n",
       "      <td>98.4</td>\n",
       "      <td>F</td>\n",
       "      <td>81.0</td>\n",
       "    </tr>\n",
       "    <tr>\n",
       "      <th>2</th>\n",
       "      <td>97.8</td>\n",
       "      <td>M</td>\n",
       "      <td>73.0</td>\n",
       "    </tr>\n",
       "    <tr>\n",
       "      <th>3</th>\n",
       "      <td>99.2</td>\n",
       "      <td>F</td>\n",
       "      <td>66.0</td>\n",
       "    </tr>\n",
       "    <tr>\n",
       "      <th>4</th>\n",
       "      <td>98.0</td>\n",
       "      <td>F</td>\n",
       "      <td>73.0</td>\n",
       "    </tr>\n",
       "  </tbody>\n",
       "</table>\n",
       "</div>"
      ],
      "text/plain": [
       "   temperature gender  heart_rate\n",
       "0         99.3      F        68.0\n",
       "1         98.4      F        81.0\n",
       "2         97.8      M        73.0\n",
       "3         99.2      F        66.0\n",
       "4         98.0      F        73.0"
      ]
     },
     "execution_count": 3,
     "metadata": {},
     "output_type": "execute_result"
    }
   ],
   "source": [
    "df.head()"
   ]
  },
  {
   "cell_type": "code",
   "execution_count": 4,
   "metadata": {},
   "outputs": [
    {
     "data": {
      "text/html": [
       "<div>\n",
       "<style>\n",
       "    .dataframe thead tr:only-child th {\n",
       "        text-align: right;\n",
       "    }\n",
       "\n",
       "    .dataframe thead th {\n",
       "        text-align: left;\n",
       "    }\n",
       "\n",
       "    .dataframe tbody tr th {\n",
       "        vertical-align: top;\n",
       "    }\n",
       "</style>\n",
       "<table border=\"1\" class=\"dataframe\">\n",
       "  <thead>\n",
       "    <tr style=\"text-align: right;\">\n",
       "      <th></th>\n",
       "      <th>temperature</th>\n",
       "      <th>gender</th>\n",
       "      <th>heart_rate</th>\n",
       "    </tr>\n",
       "  </thead>\n",
       "  <tbody>\n",
       "    <tr>\n",
       "      <th>count</th>\n",
       "      <td>130.000000</td>\n",
       "      <td>130</td>\n",
       "      <td>130.000000</td>\n",
       "    </tr>\n",
       "    <tr>\n",
       "      <th>unique</th>\n",
       "      <td>NaN</td>\n",
       "      <td>2</td>\n",
       "      <td>NaN</td>\n",
       "    </tr>\n",
       "    <tr>\n",
       "      <th>top</th>\n",
       "      <td>NaN</td>\n",
       "      <td>F</td>\n",
       "      <td>NaN</td>\n",
       "    </tr>\n",
       "    <tr>\n",
       "      <th>freq</th>\n",
       "      <td>NaN</td>\n",
       "      <td>65</td>\n",
       "      <td>NaN</td>\n",
       "    </tr>\n",
       "    <tr>\n",
       "      <th>mean</th>\n",
       "      <td>98.249231</td>\n",
       "      <td>NaN</td>\n",
       "      <td>73.761538</td>\n",
       "    </tr>\n",
       "    <tr>\n",
       "      <th>std</th>\n",
       "      <td>0.733183</td>\n",
       "      <td>NaN</td>\n",
       "      <td>7.062077</td>\n",
       "    </tr>\n",
       "    <tr>\n",
       "      <th>min</th>\n",
       "      <td>96.300000</td>\n",
       "      <td>NaN</td>\n",
       "      <td>57.000000</td>\n",
       "    </tr>\n",
       "    <tr>\n",
       "      <th>25%</th>\n",
       "      <td>97.800000</td>\n",
       "      <td>NaN</td>\n",
       "      <td>69.000000</td>\n",
       "    </tr>\n",
       "    <tr>\n",
       "      <th>50%</th>\n",
       "      <td>98.300000</td>\n",
       "      <td>NaN</td>\n",
       "      <td>74.000000</td>\n",
       "    </tr>\n",
       "    <tr>\n",
       "      <th>75%</th>\n",
       "      <td>98.700000</td>\n",
       "      <td>NaN</td>\n",
       "      <td>79.000000</td>\n",
       "    </tr>\n",
       "    <tr>\n",
       "      <th>max</th>\n",
       "      <td>100.800000</td>\n",
       "      <td>NaN</td>\n",
       "      <td>89.000000</td>\n",
       "    </tr>\n",
       "  </tbody>\n",
       "</table>\n",
       "</div>"
      ],
      "text/plain": [
       "        temperature gender  heart_rate\n",
       "count    130.000000    130  130.000000\n",
       "unique          NaN      2         NaN\n",
       "top             NaN      F         NaN\n",
       "freq            NaN     65         NaN\n",
       "mean      98.249231    NaN   73.761538\n",
       "std        0.733183    NaN    7.062077\n",
       "min       96.300000    NaN   57.000000\n",
       "25%       97.800000    NaN   69.000000\n",
       "50%       98.300000    NaN   74.000000\n",
       "75%       98.700000    NaN   79.000000\n",
       "max      100.800000    NaN   89.000000"
      ]
     },
     "execution_count": 4,
     "metadata": {},
     "output_type": "execute_result"
    }
   ],
   "source": [
    "df.describe(include='all')"
   ]
  },
  {
   "cell_type": "code",
   "execution_count": 5,
   "metadata": {
    "scrolled": false
   },
   "outputs": [
    {
     "data": {
      "image/png": "[encoded data removed]",
      "text/plain": [
       "<matplotlib.figure.Figure at 0x1be17b234a8>"
      ]
     },
     "metadata": {},
     "output_type": "display_data"
    }
   ],
   "source": [
    "fig, ax = plt.subplots(figsize=(12,6))\n",
    "plt.subplot(1, 2, 1)\n",
    "plt.hist(df.temperature, bins=30);\n",
    "plt.xlabel('temperature')\n",
    "plt.ylabel('count')\n",
    "plt.title('Distribution of dataset')\n",
    "plt.subplot(1, 2, 2)\n",
    "plt.hist(np.random.normal(loc=98.249231, scale=0.733183, size=130), bins=30);\n",
    "plt.xlabel('temperature')\n",
    "plt.ylabel('count')\n",
    "plt.title('Distribution of sample of normal distribution');"
   ]
  },
  {
   "cell_type": "markdown",
   "metadata": {},
   "source": [
    "#### Q1: Is the distribution of body temperatures normal?\n",
    "\n",
    "The distribution is normal as shown by the normal-quantile plot.  A Q-Q plot is a scatterplot created by plotting two sets of quantiles against one another. If both sets of quantiles came from the same distribution, we should see the points forming a line that’s roughly straight.  In the calls to sm.qqplot below, the data are sorted and plotted against the theoretical quantiles from a normal distribution with the same mean and standard deviation.  In the subplot on the left we see the temperature data from the dataset; on the right we see a sample from the normal distribution with the same mean and standard deviation.\n",
    "\n",
    "The library function stats.normaltest is used to test normality as a null hypothesis.  In other words, this test is used to disprove normality in an experiment.  The p-value returned from the call, 0.26, does not allow us to conclude the the distribution is not normal and suggests that the distribution may in fact be normal."
   ]
  },
  {
   "cell_type": "code",
   "execution_count": 6,
   "metadata": {},
   "outputs": [
    {
     "data": {
      "image/png": "[encoded data removed]",
      "text/plain": [
       "<matplotlib.figure.Figure at 0x1be17ef6d68>"
      ]
     },
     "metadata": {},
     "output_type": "display_data"
    }
   ],
   "source": [
    "# quantile-quantile plots\n",
    "fig, (ax1, ax2) = plt.subplots(nrows=1, ncols=2, figsize=(12,6))\n",
    "sm.qqplot(df.temperature, line='s', ax=ax1)\n",
    "ax1.set_ylabel('temperature')\n",
    "ax1.set_title('Normal-quantile plot')\n",
    "\n",
    "sm.qqplot(np.random.normal(loc=98.249231, scale=0.733183, size=130), line='s', ax=ax2)\n",
    "ax2.set_ylabel('130 samples from normal distribution')\n",
    "ax2.set_title('Normal-quantile plot')\n",
    "\n",
    "plt.show()\n"
   ]
  },
  {
   "cell_type": "code",
   "execution_count": 7,
   "metadata": {},
   "outputs": [
    {
     "data": {
      "text/plain": [
       "NormaltestResult(statistic=2.7038014333192031, pvalue=0.2587479863488254)"
      ]
     },
     "execution_count": 7,
     "metadata": {},
     "output_type": "execute_result"
    }
   ],
   "source": [
    "# use library function to assess\n",
    "stats.normaltest(df.temperature)"
   ]
  },
  {
   "cell_type": "markdown",
   "metadata": {},
   "source": [
    "#### Q2. Is the sample size large? Are the observations independent?\n",
    "\n",
    "I would not consider this to be a large sample size depending on the experiment.   If the goal is to convince the entire medical community that the widely accepted mean of 98.6 F is is incorrect and that the true value is 98.2 (the mean value of this dataset), I would venture that it is not a large enough sample.  The human race is clearly widely distributed.  One might hypothesize differences in mean body temperature based on geography, ethnicity, ambient temperature, etc.\n",
    "\n",
    "On the other hand, the dataset is large enough to satisfy the requirements of the Central Limit Theorem.\n",
    "\n",
    "There is no basis in the problem for inferring that the observations are either independent or not.  One would assume the tests independent from the context."
   ]
  },
  {
   "cell_type": "markdown",
   "metadata": {},
   "source": [
    "#### Q3. Is the true population mean really 98.6 degrees F?\n",
    "\n",
    "* Would you use a one-sample or two-sample test? Why?\n",
    "    \n",
    "__ I would use the one sample test because it is an experiment is to determine if there is a difference between a population mean (the usual 98.6 F) and a sample mean. Two sample tests are used to determine if there is a difference between means of two samples. __\n",
    "    \n",
    "* In this situation, is it appropriate to use the  *t*  or *z*  statistic?\n",
    "     \n",
    "__ I would use the z test because the t test is most appropriate when assessing smaller samples (< 30).  Code below. __\n",
    "\n",
    "* Now try using the other test. How is the result be different? Why?"
   ]
  },
  {
   "cell_type": "code",
   "execution_count": 8,
   "metadata": {},
   "outputs": [
    {
     "name": "stdout",
     "output_type": "stream",
     "text": [
      "z statistic: -5.4548232923645195, p value(z-test): 4.9021570141012155e-08\n"
     ]
    }
   ],
   "source": [
    "# z-test of null hypthesis: there is no difference between sample mean and accepted mean value.\n",
    "from statsmodels.stats import weightstats as stests\n",
    "z_stat, p_value_zt = stests.ztest(df.temperature, value=98.6)\n",
    "print('z statistic: {}, p value(z-test): {}'.format(z_stat, p_value_zt))"
   ]
  },
  {
   "cell_type": "markdown",
   "metadata": {},
   "source": [
    "##### Interpretation of z test\n",
    "The z-test says that given the hypothesis that 98.6 is the true mean of population temperature, it is extremely unlikely that\n",
    "we would observe the sample data.  Therefore we conclude that 98.6 is __*not*__ the true mean temperature."
   ]
  },
  {
   "cell_type": "code",
   "execution_count": 9,
   "metadata": {},
   "outputs": [
    {
     "name": "stdout",
     "output_type": "stream",
     "text": [
      "t statistic: -5.4548232923645195, p value(t-test): 2.4106320415561276e-07\n"
     ]
    }
   ],
   "source": [
    "# t-test of null hypothesis: there is no difference between sample mean and accepted mean value.\n",
    "t_stat, p_value_tt = stats.ttest_1samp(df.temperature, 98.6)\n",
    "print('t statistic: {}, p value(t-test): {}'.format(t_stat, p_value_tt))"
   ]
  },
  {
   "cell_type": "markdown",
   "metadata": {},
   "source": [
    "##### How the z-test and t-test differ\n",
    "In this case, both tests agree that it is highly unlikely that 98.6 is the true population mean.  In fact, the value of the respective statistics is identical.  They differ in the assessment of the probability by an order of magnitude.  This is because the z-test uses the z-distribution (normal) and the the t-test uses the t-distribution which has fatter tails.  Thus the t-test provides a higher estimate of the likelyness of the null hypothesis (the value is clearly way out on the tail)."
   ]
  },
  {
   "cell_type": "markdown",
   "metadata": {},
   "source": [
    "#### Q4. Draw a small sample of size 10 from the data and repeat both tests.\n",
    "Which one is the correct one to use?\n",
    "What do you notice? What does this tell you about the difference in application of the  *t*  and  *z*  statistic?"
   ]
  },
  {
   "cell_type": "code",
   "execution_count": 10,
   "metadata": {},
   "outputs": [
    {
     "data": {
      "text/plain": [
       "array([ 98.8,  97.7,  97.8,  98.2,  97.6,  99.2,  98.8,  98.5,  97.1,  96.7])"
      ]
     },
     "execution_count": 10,
     "metadata": {},
     "output_type": "execute_result"
    }
   ],
   "source": [
    "theSample = np.random.choice(df.temperature, size=10); theSample"
   ]
  },
  {
   "cell_type": "code",
   "execution_count": 11,
   "metadata": {},
   "outputs": [
    {
     "name": "stdout",
     "output_type": "stream",
     "text": [
      "z statistic: -2.208997068760463, p value(z-test): 0.02717484478893408\n"
     ]
    }
   ],
   "source": [
    "# z-test of small sample\n",
    "z_stat, p_value_zt = stests.ztest(theSample, value=98.6)\n",
    "print('z statistic: {}, p value(z-test): {}'.format(z_stat, p_value_zt))"
   ]
  },
  {
   "cell_type": "code",
   "execution_count": 12,
   "metadata": {},
   "outputs": [
    {
     "name": "stdout",
     "output_type": "stream",
     "text": [
      "t statistic: -2.208997068760463, p value(t-test): 0.05453439507519581\n"
     ]
    }
   ],
   "source": [
    "# t-test of small sample\n",
    "t_stat, p_value_tt = stats.ttest_1samp(theSample, 98.6)\n",
    "print('t statistic: {}, p value(t-test): {}'.format(t_stat, p_value_tt))"
   ]
  },
  {
   "cell_type": "markdown",
   "metadata": {},
   "source": [
    "###### Answer: the t-test is more appropriate for small sample sizes, so that would be the test to use on a sample of 10.\n",
    "\n",
    "The t-test gives a smaller p-value, strong enough to disqualify the null hypothesis, while the z-test with a p-val > 5% would not."
   ]
  },
  {
   "cell_type": "markdown",
   "metadata": {},
   "source": [
    "#### At what temperature should we consider someone's temperature to be \"abnormal\"?\n",
    "Start by computing the margin of error and confidence interval."
   ]
  },
  {
   "cell_type": "code",
   "execution_count": 13,
   "metadata": {},
   "outputs": [
    {
     "data": {
      "text/plain": [
       "0.064304416837891024"
      ]
     },
     "execution_count": 13,
     "metadata": {},
     "output_type": "execute_result"
    }
   ],
   "source": [
    "# standard error of the mean is given by std/n**0.5 or stats.sem\n",
    "stats.sem(df.temperature)"
   ]
  },
  {
   "cell_type": "code",
   "execution_count": 14,
   "metadata": {},
   "outputs": [
    {
     "name": "stdout",
     "output_type": "stream",
     "text": [
      "confidence interval: [98.20, 98.30]\n"
     ]
    }
   ],
   "source": [
    "# confidence interval is [mean - std*sem, mean + std*sem]\n",
    "sampleMean = np.mean(df.temperature)\n",
    "sampleSTD = np.std(df.temperature)\n",
    "StdErr = stats.sem(df.temperature)\n",
    "print('confidence interval: [{:4.2f}, {:4.2f}]'.format(sampleMean - sampleSTD * StdErr, sampleMean + sampleSTD * StdErr))"
   ]
  },
  {
   "cell_type": "markdown",
   "metadata": {},
   "source": [
    "##### Answer: Because our sample is only 130 points we don't have too much precision in our mean temperature.  The confidence interval says we have 95% confidence in a value between 98.2 and 98.3. \n",
    "\n",
    "If we use 98.3 as the mean and 0.7 as a (conservative) standard deviation, 35/130 have temperatures at least 1 std away from the mean and 8/130 are at least 2 std away.  There is 1/130 at least 3 std out.  These figures include temperatures both higher and lower than the mean.\n",
    "\n",
    "One is prompted to ask if everyone in the sample was healthy?\n",
    "\n",
    "As a layperson, I would assume that a temperature of 100F is a fever; 100F is a bit than 2 std out from the median in this sample (presumably a better representation of the true median of the population than 98.6).\n",
    "\n",
    "2 std out on the low side is 96.7, certainly low but apparently not unheard of.\n",
    "\n",
    "I suggest that this question is better answered by a physician rather than a statistician.  \n",
    "\n",
    "My own experience tells me that instead of a population median, an individual median would provide a more accurate rendering of \n",
    "'abnormal' temperature.\n",
    "\n",
    "If forced to provide an answer I would label temperatures over 99.7 as abnormal (this is 2 std above the median) and ignore low temperatures."
   ]
  },
  {
   "cell_type": "code",
   "execution_count": 15,
   "metadata": {
    "scrolled": true
   },
   "outputs": [
    {
     "data": {
      "text/plain": [
       "35"
      ]
     },
     "execution_count": 15,
     "metadata": {},
     "output_type": "execute_result"
    }
   ],
   "source": [
    "(df.temperature < (98.3 - 0.7)).sum() + (df.temperature > (98.3 + 0.7)).sum()"
   ]
  },
  {
   "cell_type": "code",
   "execution_count": 16,
   "metadata": {},
   "outputs": [
    {
     "data": {
      "text/plain": [
       "8"
      ]
     },
     "execution_count": 16,
     "metadata": {},
     "output_type": "execute_result"
    }
   ],
   "source": [
    "(df.temperature < (98.3 - 1.4)).sum() + (df.temperature > (98.3 + 1.4)).sum()"
   ]
  },
  {
   "cell_type": "code",
   "execution_count": 17,
   "metadata": {},
   "outputs": [
    {
     "data": {
      "text/plain": [
       "1"
      ]
     },
     "execution_count": 17,
     "metadata": {},
     "output_type": "execute_result"
    }
   ],
   "source": [
    "(df.temperature < (98.3 - 2.1)).sum() + (df.temperature > (98.3 + 2.1)).sum()"
   ]
  },
  {
   "cell_type": "markdown",
   "metadata": {},
   "source": [
    "### Q6. Is there a significant difference between males and females in normal temperature?\n",
    "What test did you use and why?\n",
    "Write a story with your conclusion in the context of the original problem."
   ]
  },
  {
   "cell_type": "code",
   "execution_count": 18,
   "metadata": {},
   "outputs": [],
   "source": [
    "maleTemps = df.loc[df.gender == 'M', 'temperature']"
   ]
  },
  {
   "cell_type": "code",
   "execution_count": 19,
   "metadata": {
    "scrolled": true
   },
   "outputs": [
    {
     "name": "stdout",
     "output_type": "stream",
     "text": [
      "Mean Temp (Males): 98.10, std. dev: 0.69\n"
     ]
    }
   ],
   "source": [
    "maleStd, maleMean = np.std(maleTemps), np.mean(maleTemps)\n",
    "print('Mean Temp (Males): {:4.2f}, std. dev: {:4.2f}'.format(maleMean, maleStd))"
   ]
  },
  {
   "cell_type": "code",
   "execution_count": 20,
   "metadata": {
    "collapsed": true
   },
   "outputs": [],
   "source": [
    "femaleTemps = df.loc[df.gender == 'F', 'temperature']"
   ]
  },
  {
   "cell_type": "code",
   "execution_count": 21,
   "metadata": {
    "scrolled": true
   },
   "outputs": [
    {
     "name": "stdout",
     "output_type": "stream",
     "text": [
      "Mean Temp (Males): 98.39, std. dev: 0.74\n"
     ]
    }
   ],
   "source": [
    "femaleStd, femaleMean = np.std(femaleTemps), np.mean(femaleTemps)\n",
    "print('Mean Temp (Males): {:4.2f}, std. dev: {:4.2f}'.format(femaleMean, femaleStd))"
   ]
  },
  {
   "cell_type": "code",
   "execution_count": 22,
   "metadata": {},
   "outputs": [
    {
     "name": "stdout",
     "output_type": "stream",
     "text": [
      "z statistic: -2.29, p value(z-test): 0.02\n"
     ]
    }
   ],
   "source": [
    "z_stat, p_value_zt = stests.ztest(maleTemps, femaleTemps);\n",
    "print('z statistic: {:4.2f}, p value(z-test): {:4.2f}'.format(z_stat, p_value_zt))"
   ]
  },
  {
   "cell_type": "markdown",
   "metadata": {},
   "source": [
    "##### Answer:   There is a significant difference between the two populations.  The p-value of 0.02 indicates it is highly unlikely that the mean values of the populations are the same.\n",
    "\n",
    "I used the z-test because there are 60 samples of each.  The t-test is best when samples are considerably smaller (< 15).  For  purposes of comparison, the t-test is below.  The results are essentially identical to the z-test."
   ]
  },
  {
   "cell_type": "code",
   "execution_count": 23,
   "metadata": {
    "scrolled": true
   },
   "outputs": [
    {
     "name": "stdout",
     "output_type": "stream",
     "text": [
      "t statistic: -2.29, p value(t-test): 0.02\n"
     ]
    }
   ],
   "source": [
    "t_stat, p_value_tt = stats.ttest_ind(maleTemps, femaleTemps)\n",
    "print('t statistic: {:4.2f}, p value(t-test): {:4.2f}'.format(t_stat, p_value_tt))"
   ]
  },
  {
   "cell_type": "markdown",
   "metadata": {},
   "source": [
    "##### Answer (continued)\n",
    "In the context of the problem the result seems quite significant.  The generally accepted mean temperature is a ungendered value.  It would seem to be reasonable to provide separate values for males and females since the data show that there is a significant (0.3F) difference in mean temperatures between the genders.  \n",
    "\n",
    "Further these data suggest that current measurements would provide a more accurate 'normal' mean temperature for both males and females than the conventional value of 98.6F for everyone."
   ]
  }
 ],
 "metadata": {
  "kernelspec": {
   "display_name": "Python 3",
   "language": "python",
   "name": "python3"
  },
  "language_info": {
   "codemirror_mode": {
    "name": "ipython",
    "version": 3
   },
   "file_extension": ".py",
   "mimetype": "text/x-python",
   "name": "python",
   "nbconvert_exporter": "python",
   "pygments_lexer": "ipython3",
   "version": "3.6.3"
  }
 },
 "nbformat": 4,
 "nbformat_minor": 1
}
