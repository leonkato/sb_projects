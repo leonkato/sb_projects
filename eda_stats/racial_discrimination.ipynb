{
 "cells": [
  {
   "cell_type": "markdown",
   "metadata": {},
   "source": [
    "# Examining Racial Discrimination in the US Job Market\n",
    "\n",
    "### Background\n",
    "Racial discrimination continues to be pervasive in cultures throughout the world. Researchers examined the level of racial discrimination in the United States labor market by randomly assigning identical résumés to black-sounding or white-sounding names and observing the impact on requests for interviews from employers.\n",
    "\n",
    "### Data\n",
    "In the dataset provided, each row represents a resume. The 'race' column has two values, 'b' and 'w', indicating black-sounding and white-sounding. The column 'call' has two values, 1 and 0, indicating whether the resume received a call from employers or not.\n",
    "\n",
    "Note that the 'b' and 'w' values in race are assigned randomly to the resumes when presented to the employer."
   ]
  },
  {
   "cell_type": "markdown",
   "metadata": {},
   "source": [
    "### Exercises\n",
    "You will perform a statistical analysis to establish whether race has a significant impact on the rate of callbacks for resumes.\n",
    "\n",
    "Answer the following questions **in this notebook below and submit to your Github account**. \n",
    "\n",
    "   1. What test is appropriate for this problem? Does CLT apply?\n",
    "   2. What are the null and alternate hypotheses?\n",
    "   3. Compute margin of error, confidence interval, and p-value.\n",
    "   4. Write a story describing the statistical significance in the context or the original problem.\n",
    "   5. Does your analysis mean that race/name is the most important factor in callback success? Why or why not? If not, how would you amend your analysis?\n",
    "\n",
    "You can include written notes in notebook cells using Markdown: \n",
    "   - In the control panel at the top, choose Cell > Cell Type > Markdown\n",
    "   - Markdown syntax: http://nestacms.com/docs/creating-content/markdown-cheat-sheet\n",
    "\n",
    "\n",
    "#### Resources\n",
    "+ Experiment information and data source: http://www.povertyactionlab.org/evaluation/discrimination-job-market-united-states\n",
    "+ Scipy statistical methods: http://docs.scipy.org/doc/scipy/reference/stats.html \n",
    "+ Markdown syntax: http://nestacms.com/docs/creating-content/markdown-cheat-sheet\n",
    "****"
   ]
  },
  {
   "cell_type": "code",
   "execution_count": 1,
   "metadata": {
    "collapsed": true
   },
   "outputs": [],
   "source": [
    "import pandas as pd\n",
    "import numpy as np\n",
    "from scipy import stats\n",
    "import matplotlib.pyplot as plt\n",
    "import seaborn as sns\n",
    "%matplotlib inline\n",
    "pd.set_option('display.max_columns', 80)"
   ]
  },
  {
   "cell_type": "code",
   "execution_count": 2,
   "metadata": {
    "collapsed": true
   },
   "outputs": [],
   "source": [
    "data = pd.io.stata.read_stata('data/us_job_market_discrimination.dta')"
   ]
  },
  {
   "cell_type": "code",
   "execution_count": 3,
   "metadata": {},
   "outputs": [
    {
     "data": {
      "text/plain": [
       "157.0"
      ]
     },
     "execution_count": 3,
     "metadata": {},
     "output_type": "execute_result"
    }
   ],
   "source": [
    "# number of callbacks for black-sounding names\n",
    "sum(data[data.race=='b'].call)"
   ]
  },
  {
   "cell_type": "code",
   "execution_count": 4,
   "metadata": {},
   "outputs": [
    {
     "data": {
      "text/html": [
       "<div>\n",
       "<style>\n",
       "    .dataframe thead tr:only-child th {\n",
       "        text-align: right;\n",
       "    }\n",
       "\n",
       "    .dataframe thead th {\n",
       "        text-align: left;\n",
       "    }\n",
       "\n",
       "    .dataframe tbody tr th {\n",
       "        vertical-align: top;\n",
       "    }\n",
       "</style>\n",
       "<table border=\"1\" class=\"dataframe\">\n",
       "  <thead>\n",
       "    <tr style=\"text-align: right;\">\n",
       "      <th></th>\n",
       "      <th>id</th>\n",
       "      <th>ad</th>\n",
       "      <th>education</th>\n",
       "      <th>ofjobs</th>\n",
       "      <th>yearsexp</th>\n",
       "      <th>honors</th>\n",
       "      <th>volunteer</th>\n",
       "      <th>military</th>\n",
       "      <th>empholes</th>\n",
       "      <th>occupspecific</th>\n",
       "      <th>occupbroad</th>\n",
       "      <th>workinschool</th>\n",
       "      <th>email</th>\n",
       "      <th>computerskills</th>\n",
       "      <th>specialskills</th>\n",
       "      <th>firstname</th>\n",
       "      <th>sex</th>\n",
       "      <th>race</th>\n",
       "      <th>h</th>\n",
       "      <th>l</th>\n",
       "      <th>call</th>\n",
       "      <th>city</th>\n",
       "      <th>kind</th>\n",
       "      <th>adid</th>\n",
       "      <th>fracblack</th>\n",
       "      <th>fracwhite</th>\n",
       "      <th>lmedhhinc</th>\n",
       "      <th>fracdropout</th>\n",
       "      <th>fraccolp</th>\n",
       "      <th>linc</th>\n",
       "      <th>col</th>\n",
       "      <th>expminreq</th>\n",
       "      <th>schoolreq</th>\n",
       "      <th>eoe</th>\n",
       "      <th>parent_sales</th>\n",
       "      <th>parent_emp</th>\n",
       "      <th>branch_sales</th>\n",
       "      <th>branch_emp</th>\n",
       "      <th>fed</th>\n",
       "      <th>fracblack_empzip</th>\n",
       "      <th>fracwhite_empzip</th>\n",
       "      <th>lmedhhinc_empzip</th>\n",
       "      <th>fracdropout_empzip</th>\n",
       "      <th>fraccolp_empzip</th>\n",
       "      <th>linc_empzip</th>\n",
       "      <th>manager</th>\n",
       "      <th>supervisor</th>\n",
       "      <th>secretary</th>\n",
       "      <th>offsupport</th>\n",
       "      <th>salesrep</th>\n",
       "      <th>retailsales</th>\n",
       "      <th>req</th>\n",
       "      <th>expreq</th>\n",
       "      <th>comreq</th>\n",
       "      <th>educreq</th>\n",
       "      <th>compreq</th>\n",
       "      <th>orgreq</th>\n",
       "      <th>manuf</th>\n",
       "      <th>transcom</th>\n",
       "      <th>bankreal</th>\n",
       "      <th>trade</th>\n",
       "      <th>busservice</th>\n",
       "      <th>othservice</th>\n",
       "      <th>missind</th>\n",
       "      <th>ownership</th>\n",
       "    </tr>\n",
       "  </thead>\n",
       "  <tbody>\n",
       "    <tr>\n",
       "      <th>0</th>\n",
       "      <td>b</td>\n",
       "      <td>1</td>\n",
       "      <td>4</td>\n",
       "      <td>2</td>\n",
       "      <td>6</td>\n",
       "      <td>0</td>\n",
       "      <td>0</td>\n",
       "      <td>0</td>\n",
       "      <td>1</td>\n",
       "      <td>17</td>\n",
       "      <td>1</td>\n",
       "      <td>0</td>\n",
       "      <td>0</td>\n",
       "      <td>1</td>\n",
       "      <td>0</td>\n",
       "      <td>Allison</td>\n",
       "      <td>f</td>\n",
       "      <td>w</td>\n",
       "      <td>0.0</td>\n",
       "      <td>1.0</td>\n",
       "      <td>0.0</td>\n",
       "      <td>c</td>\n",
       "      <td>a</td>\n",
       "      <td>384.0</td>\n",
       "      <td>0.989360</td>\n",
       "      <td>0.005500</td>\n",
       "      <td>9.527484</td>\n",
       "      <td>0.274151</td>\n",
       "      <td>0.037662</td>\n",
       "      <td>8.706325</td>\n",
       "      <td>1.0</td>\n",
       "      <td>5</td>\n",
       "      <td></td>\n",
       "      <td>1.0</td>\n",
       "      <td>NaN</td>\n",
       "      <td>NaN</td>\n",
       "      <td>NaN</td>\n",
       "      <td>NaN</td>\n",
       "      <td>NaN</td>\n",
       "      <td>NaN</td>\n",
       "      <td>NaN</td>\n",
       "      <td>NaN</td>\n",
       "      <td>NaN</td>\n",
       "      <td>NaN</td>\n",
       "      <td>NaN</td>\n",
       "      <td>0.0</td>\n",
       "      <td>1.0</td>\n",
       "      <td>0.0</td>\n",
       "      <td>0.0</td>\n",
       "      <td>0.0</td>\n",
       "      <td>0.0</td>\n",
       "      <td>1.0</td>\n",
       "      <td>1.0</td>\n",
       "      <td>0.0</td>\n",
       "      <td>0.0</td>\n",
       "      <td>1.0</td>\n",
       "      <td>0.0</td>\n",
       "      <td>1.0</td>\n",
       "      <td>0.0</td>\n",
       "      <td>0.0</td>\n",
       "      <td>0.0</td>\n",
       "      <td>0.0</td>\n",
       "      <td>0.0</td>\n",
       "      <td>0.0</td>\n",
       "      <td></td>\n",
       "    </tr>\n",
       "    <tr>\n",
       "      <th>1</th>\n",
       "      <td>b</td>\n",
       "      <td>1</td>\n",
       "      <td>3</td>\n",
       "      <td>3</td>\n",
       "      <td>6</td>\n",
       "      <td>0</td>\n",
       "      <td>1</td>\n",
       "      <td>1</td>\n",
       "      <td>0</td>\n",
       "      <td>316</td>\n",
       "      <td>6</td>\n",
       "      <td>1</td>\n",
       "      <td>1</td>\n",
       "      <td>1</td>\n",
       "      <td>0</td>\n",
       "      <td>Kristen</td>\n",
       "      <td>f</td>\n",
       "      <td>w</td>\n",
       "      <td>1.0</td>\n",
       "      <td>0.0</td>\n",
       "      <td>0.0</td>\n",
       "      <td>c</td>\n",
       "      <td>a</td>\n",
       "      <td>384.0</td>\n",
       "      <td>0.080736</td>\n",
       "      <td>0.888374</td>\n",
       "      <td>10.408828</td>\n",
       "      <td>0.233687</td>\n",
       "      <td>0.087285</td>\n",
       "      <td>9.532859</td>\n",
       "      <td>0.0</td>\n",
       "      <td>5</td>\n",
       "      <td></td>\n",
       "      <td>1.0</td>\n",
       "      <td>NaN</td>\n",
       "      <td>NaN</td>\n",
       "      <td>NaN</td>\n",
       "      <td>NaN</td>\n",
       "      <td>NaN</td>\n",
       "      <td>NaN</td>\n",
       "      <td>NaN</td>\n",
       "      <td>NaN</td>\n",
       "      <td>NaN</td>\n",
       "      <td>NaN</td>\n",
       "      <td>NaN</td>\n",
       "      <td>0.0</td>\n",
       "      <td>1.0</td>\n",
       "      <td>0.0</td>\n",
       "      <td>0.0</td>\n",
       "      <td>0.0</td>\n",
       "      <td>0.0</td>\n",
       "      <td>1.0</td>\n",
       "      <td>1.0</td>\n",
       "      <td>0.0</td>\n",
       "      <td>0.0</td>\n",
       "      <td>1.0</td>\n",
       "      <td>0.0</td>\n",
       "      <td>1.0</td>\n",
       "      <td>0.0</td>\n",
       "      <td>0.0</td>\n",
       "      <td>0.0</td>\n",
       "      <td>0.0</td>\n",
       "      <td>0.0</td>\n",
       "      <td>0.0</td>\n",
       "      <td></td>\n",
       "    </tr>\n",
       "    <tr>\n",
       "      <th>2</th>\n",
       "      <td>b</td>\n",
       "      <td>1</td>\n",
       "      <td>4</td>\n",
       "      <td>1</td>\n",
       "      <td>6</td>\n",
       "      <td>0</td>\n",
       "      <td>0</td>\n",
       "      <td>0</td>\n",
       "      <td>0</td>\n",
       "      <td>19</td>\n",
       "      <td>1</td>\n",
       "      <td>1</td>\n",
       "      <td>0</td>\n",
       "      <td>1</td>\n",
       "      <td>0</td>\n",
       "      <td>Lakisha</td>\n",
       "      <td>f</td>\n",
       "      <td>b</td>\n",
       "      <td>0.0</td>\n",
       "      <td>1.0</td>\n",
       "      <td>0.0</td>\n",
       "      <td>c</td>\n",
       "      <td>a</td>\n",
       "      <td>384.0</td>\n",
       "      <td>0.104301</td>\n",
       "      <td>0.837370</td>\n",
       "      <td>10.466754</td>\n",
       "      <td>0.101335</td>\n",
       "      <td>0.591695</td>\n",
       "      <td>10.540329</td>\n",
       "      <td>1.0</td>\n",
       "      <td>5</td>\n",
       "      <td></td>\n",
       "      <td>1.0</td>\n",
       "      <td>NaN</td>\n",
       "      <td>NaN</td>\n",
       "      <td>NaN</td>\n",
       "      <td>NaN</td>\n",
       "      <td>NaN</td>\n",
       "      <td>NaN</td>\n",
       "      <td>NaN</td>\n",
       "      <td>NaN</td>\n",
       "      <td>NaN</td>\n",
       "      <td>NaN</td>\n",
       "      <td>NaN</td>\n",
       "      <td>0.0</td>\n",
       "      <td>1.0</td>\n",
       "      <td>0.0</td>\n",
       "      <td>0.0</td>\n",
       "      <td>0.0</td>\n",
       "      <td>0.0</td>\n",
       "      <td>1.0</td>\n",
       "      <td>1.0</td>\n",
       "      <td>0.0</td>\n",
       "      <td>0.0</td>\n",
       "      <td>1.0</td>\n",
       "      <td>0.0</td>\n",
       "      <td>1.0</td>\n",
       "      <td>0.0</td>\n",
       "      <td>0.0</td>\n",
       "      <td>0.0</td>\n",
       "      <td>0.0</td>\n",
       "      <td>0.0</td>\n",
       "      <td>0.0</td>\n",
       "      <td></td>\n",
       "    </tr>\n",
       "    <tr>\n",
       "      <th>3</th>\n",
       "      <td>b</td>\n",
       "      <td>1</td>\n",
       "      <td>3</td>\n",
       "      <td>4</td>\n",
       "      <td>6</td>\n",
       "      <td>0</td>\n",
       "      <td>1</td>\n",
       "      <td>0</td>\n",
       "      <td>1</td>\n",
       "      <td>313</td>\n",
       "      <td>5</td>\n",
       "      <td>0</td>\n",
       "      <td>1</td>\n",
       "      <td>1</td>\n",
       "      <td>1</td>\n",
       "      <td>Latonya</td>\n",
       "      <td>f</td>\n",
       "      <td>b</td>\n",
       "      <td>1.0</td>\n",
       "      <td>0.0</td>\n",
       "      <td>0.0</td>\n",
       "      <td>c</td>\n",
       "      <td>a</td>\n",
       "      <td>384.0</td>\n",
       "      <td>0.336165</td>\n",
       "      <td>0.637370</td>\n",
       "      <td>10.431908</td>\n",
       "      <td>0.108848</td>\n",
       "      <td>0.406576</td>\n",
       "      <td>10.412141</td>\n",
       "      <td>0.0</td>\n",
       "      <td>5</td>\n",
       "      <td></td>\n",
       "      <td>1.0</td>\n",
       "      <td>NaN</td>\n",
       "      <td>NaN</td>\n",
       "      <td>NaN</td>\n",
       "      <td>NaN</td>\n",
       "      <td>NaN</td>\n",
       "      <td>NaN</td>\n",
       "      <td>NaN</td>\n",
       "      <td>NaN</td>\n",
       "      <td>NaN</td>\n",
       "      <td>NaN</td>\n",
       "      <td>NaN</td>\n",
       "      <td>0.0</td>\n",
       "      <td>1.0</td>\n",
       "      <td>0.0</td>\n",
       "      <td>0.0</td>\n",
       "      <td>0.0</td>\n",
       "      <td>0.0</td>\n",
       "      <td>1.0</td>\n",
       "      <td>1.0</td>\n",
       "      <td>0.0</td>\n",
       "      <td>0.0</td>\n",
       "      <td>1.0</td>\n",
       "      <td>0.0</td>\n",
       "      <td>1.0</td>\n",
       "      <td>0.0</td>\n",
       "      <td>0.0</td>\n",
       "      <td>0.0</td>\n",
       "      <td>0.0</td>\n",
       "      <td>0.0</td>\n",
       "      <td>0.0</td>\n",
       "      <td></td>\n",
       "    </tr>\n",
       "    <tr>\n",
       "      <th>4</th>\n",
       "      <td>b</td>\n",
       "      <td>1</td>\n",
       "      <td>3</td>\n",
       "      <td>3</td>\n",
       "      <td>22</td>\n",
       "      <td>0</td>\n",
       "      <td>0</td>\n",
       "      <td>0</td>\n",
       "      <td>0</td>\n",
       "      <td>313</td>\n",
       "      <td>5</td>\n",
       "      <td>1</td>\n",
       "      <td>1</td>\n",
       "      <td>1</td>\n",
       "      <td>0</td>\n",
       "      <td>Carrie</td>\n",
       "      <td>f</td>\n",
       "      <td>w</td>\n",
       "      <td>1.0</td>\n",
       "      <td>0.0</td>\n",
       "      <td>0.0</td>\n",
       "      <td>c</td>\n",
       "      <td>a</td>\n",
       "      <td>385.0</td>\n",
       "      <td>0.397595</td>\n",
       "      <td>0.180196</td>\n",
       "      <td>9.876219</td>\n",
       "      <td>0.312873</td>\n",
       "      <td>0.030847</td>\n",
       "      <td>8.728264</td>\n",
       "      <td>0.0</td>\n",
       "      <td>some</td>\n",
       "      <td></td>\n",
       "      <td>1.0</td>\n",
       "      <td>9.4</td>\n",
       "      <td>143.0</td>\n",
       "      <td>9.4</td>\n",
       "      <td>143.0</td>\n",
       "      <td>0.0</td>\n",
       "      <td>0.204764</td>\n",
       "      <td>0.727046</td>\n",
       "      <td>10.619399</td>\n",
       "      <td>0.070493</td>\n",
       "      <td>0.369903</td>\n",
       "      <td>10.007352</td>\n",
       "      <td>0.0</td>\n",
       "      <td>0.0</td>\n",
       "      <td>1.0</td>\n",
       "      <td>0.0</td>\n",
       "      <td>0.0</td>\n",
       "      <td>0.0</td>\n",
       "      <td>1.0</td>\n",
       "      <td>1.0</td>\n",
       "      <td>0.0</td>\n",
       "      <td>0.0</td>\n",
       "      <td>1.0</td>\n",
       "      <td>1.0</td>\n",
       "      <td>0.0</td>\n",
       "      <td>0.0</td>\n",
       "      <td>0.0</td>\n",
       "      <td>0.0</td>\n",
       "      <td>0.0</td>\n",
       "      <td>1.0</td>\n",
       "      <td>0.0</td>\n",
       "      <td>Nonprofit</td>\n",
       "    </tr>\n",
       "  </tbody>\n",
       "</table>\n",
       "</div>"
      ],
      "text/plain": [
       "  id ad  education  ofjobs  yearsexp  honors  volunteer  military  empholes  \\\n",
       "0  b  1          4       2         6       0          0         0         1   \n",
       "1  b  1          3       3         6       0          1         1         0   \n",
       "2  b  1          4       1         6       0          0         0         0   \n",
       "3  b  1          3       4         6       0          1         0         1   \n",
       "4  b  1          3       3        22       0          0         0         0   \n",
       "\n",
       "   occupspecific  occupbroad  workinschool  email  computerskills  \\\n",
       "0             17           1             0      0               1   \n",
       "1            316           6             1      1               1   \n",
       "2             19           1             1      0               1   \n",
       "3            313           5             0      1               1   \n",
       "4            313           5             1      1               1   \n",
       "\n",
       "   specialskills firstname sex race    h    l  call city kind   adid  \\\n",
       "0              0   Allison   f    w  0.0  1.0   0.0    c    a  384.0   \n",
       "1              0   Kristen   f    w  1.0  0.0   0.0    c    a  384.0   \n",
       "2              0   Lakisha   f    b  0.0  1.0   0.0    c    a  384.0   \n",
       "3              1   Latonya   f    b  1.0  0.0   0.0    c    a  384.0   \n",
       "4              0    Carrie   f    w  1.0  0.0   0.0    c    a  385.0   \n",
       "\n",
       "   fracblack  fracwhite  lmedhhinc  fracdropout  fraccolp       linc  col  \\\n",
       "0   0.989360   0.005500   9.527484     0.274151  0.037662   8.706325  1.0   \n",
       "1   0.080736   0.888374  10.408828     0.233687  0.087285   9.532859  0.0   \n",
       "2   0.104301   0.837370  10.466754     0.101335  0.591695  10.540329  1.0   \n",
       "3   0.336165   0.637370  10.431908     0.108848  0.406576  10.412141  0.0   \n",
       "4   0.397595   0.180196   9.876219     0.312873  0.030847   8.728264  0.0   \n",
       "\n",
       "  expminreq schoolreq  eoe  parent_sales  parent_emp  branch_sales  \\\n",
       "0         5            1.0           NaN         NaN           NaN   \n",
       "1         5            1.0           NaN         NaN           NaN   \n",
       "2         5            1.0           NaN         NaN           NaN   \n",
       "3         5            1.0           NaN         NaN           NaN   \n",
       "4      some            1.0           9.4       143.0           9.4   \n",
       "\n",
       "   branch_emp  fed  fracblack_empzip  fracwhite_empzip  lmedhhinc_empzip  \\\n",
       "0         NaN  NaN               NaN               NaN               NaN   \n",
       "1         NaN  NaN               NaN               NaN               NaN   \n",
       "2         NaN  NaN               NaN               NaN               NaN   \n",
       "3         NaN  NaN               NaN               NaN               NaN   \n",
       "4       143.0  0.0          0.204764          0.727046         10.619399   \n",
       "\n",
       "   fracdropout_empzip  fraccolp_empzip  linc_empzip  manager  supervisor  \\\n",
       "0                 NaN              NaN          NaN      0.0         1.0   \n",
       "1                 NaN              NaN          NaN      0.0         1.0   \n",
       "2                 NaN              NaN          NaN      0.0         1.0   \n",
       "3                 NaN              NaN          NaN      0.0         1.0   \n",
       "4            0.070493         0.369903    10.007352      0.0         0.0   \n",
       "\n",
       "   secretary  offsupport  salesrep  retailsales  req  expreq  comreq  educreq  \\\n",
       "0        0.0         0.0       0.0          0.0  1.0     1.0     0.0      0.0   \n",
       "1        0.0         0.0       0.0          0.0  1.0     1.0     0.0      0.0   \n",
       "2        0.0         0.0       0.0          0.0  1.0     1.0     0.0      0.0   \n",
       "3        0.0         0.0       0.0          0.0  1.0     1.0     0.0      0.0   \n",
       "4        1.0         0.0       0.0          0.0  1.0     1.0     0.0      0.0   \n",
       "\n",
       "   compreq  orgreq  manuf  transcom  bankreal  trade  busservice  othservice  \\\n",
       "0      1.0     0.0    1.0       0.0       0.0    0.0         0.0         0.0   \n",
       "1      1.0     0.0    1.0       0.0       0.0    0.0         0.0         0.0   \n",
       "2      1.0     0.0    1.0       0.0       0.0    0.0         0.0         0.0   \n",
       "3      1.0     0.0    1.0       0.0       0.0    0.0         0.0         0.0   \n",
       "4      1.0     1.0    0.0       0.0       0.0    0.0         0.0         1.0   \n",
       "\n",
       "   missind  ownership  \n",
       "0      0.0             \n",
       "1      0.0             \n",
       "2      0.0             \n",
       "3      0.0             \n",
       "4      0.0  Nonprofit  "
      ]
     },
     "execution_count": 4,
     "metadata": {},
     "output_type": "execute_result"
    }
   ],
   "source": [
    "data.head()"
   ]
  },
  {
   "cell_type": "code",
   "execution_count": 5,
   "metadata": {},
   "outputs": [
    {
     "data": {
      "text/plain": [
       "235.0"
      ]
     },
     "execution_count": 5,
     "metadata": {},
     "output_type": "execute_result"
    }
   ],
   "source": [
    "# number of callbacks for white-sounding names\n",
    "sum(data[data.race=='w'].call)"
   ]
  },
  {
   "cell_type": "code",
   "execution_count": 6,
   "metadata": {},
   "outputs": [
    {
     "data": {
      "text/plain": [
       "Index(['id', 'ad', 'education', 'ofjobs', 'yearsexp', 'honors', 'volunteer',\n",
       "       'military', 'empholes', 'occupspecific', 'occupbroad', 'workinschool',\n",
       "       'email', 'computerskills', 'specialskills', 'firstname', 'sex', 'race',\n",
       "       'h', 'l', 'call', 'city', 'kind', 'adid', 'fracblack', 'fracwhite',\n",
       "       'lmedhhinc', 'fracdropout', 'fraccolp', 'linc', 'col', 'expminreq',\n",
       "       'schoolreq', 'eoe', 'parent_sales', 'parent_emp', 'branch_sales',\n",
       "       'branch_emp', 'fed', 'fracblack_empzip', 'fracwhite_empzip',\n",
       "       'lmedhhinc_empzip', 'fracdropout_empzip', 'fraccolp_empzip',\n",
       "       'linc_empzip', 'manager', 'supervisor', 'secretary', 'offsupport',\n",
       "       'salesrep', 'retailsales', 'req', 'expreq', 'comreq', 'educreq',\n",
       "       'compreq', 'orgreq', 'manuf', 'transcom', 'bankreal', 'trade',\n",
       "       'busservice', 'othservice', 'missind', 'ownership'],\n",
       "      dtype='object')"
      ]
     },
     "execution_count": 6,
     "metadata": {},
     "output_type": "execute_result"
    }
   ],
   "source": [
    "# what are the columns?\n",
    "data.columns"
   ]
  },
  {
   "cell_type": "code",
   "execution_count": 7,
   "metadata": {},
   "outputs": [
    {
     "data": {
      "text/plain": [
       "(4870, 65)"
      ]
     },
     "execution_count": 7,
     "metadata": {},
     "output_type": "execute_result"
    }
   ],
   "source": [
    "# almost 5000 rows\n",
    "data.shape"
   ]
  },
  {
   "cell_type": "code",
   "execution_count": 8,
   "metadata": {},
   "outputs": [
    {
     "data": {
      "text/plain": [
       "0.080492813141683772"
      ]
     },
     "execution_count": 8,
     "metadata": {},
     "output_type": "execute_result"
    }
   ],
   "source": [
    "# callback rate = number of calls/number of resumes => 8%\n",
    "data.call.sum()/data.shape[0]"
   ]
  },
  {
   "cell_type": "code",
   "execution_count": 9,
   "metadata": {},
   "outputs": [
    {
     "data": {
      "text/plain": [
       "b    2435\n",
       "w    2435\n",
       "Name: race, dtype: int64"
      ]
     },
     "execution_count": 9,
     "metadata": {},
     "output_type": "execute_result"
    }
   ],
   "source": [
    "data.race.value_counts()"
   ]
  },
  {
   "cell_type": "code",
   "execution_count": 10,
   "metadata": {},
   "outputs": [
    {
     "data": {
      "image/png": "[encoded data removed]",
      "text/plain": [
       "<matplotlib.figure.Figure at 0x2050c0b3048>"
      ]
     },
     "metadata": {},
     "output_type": "display_data"
    }
   ],
   "source": [
    "sns.barplot(y='race', x='call', data=data, orient='h');"
   ]
  },
  {
   "cell_type": "code",
   "execution_count": 11,
   "metadata": {},
   "outputs": [
    {
     "data": {
      "text/plain": [
       "<matplotlib.axes._subplots.AxesSubplot at 0x2050c35d6d8>"
      ]
     },
     "execution_count": 11,
     "metadata": {},
     "output_type": "execute_result"
    },
    {
     "data": {
      "image/png": "[encoded data removed]",
      "text/plain": [
       "<matplotlib.figure.Figure at 0x2050c01add8>"
      ]
     },
     "metadata": {},
     "output_type": "display_data"
    }
   ],
   "source": [
    "sns.countplot(y=\"call\", hue=\"race\", data=data)"
   ]
  },
  {
   "cell_type": "code",
   "execution_count": 12,
   "metadata": {},
   "outputs": [
    {
     "data": {
      "image/png": "[encoded data removed]",
      "text/plain": [
       "<matplotlib.figure.Figure at 0x2050c5a67f0>"
      ]
     },
     "metadata": {},
     "output_type": "display_data"
    }
   ],
   "source": [
    "fig, ax = plt.subplots(figsize=(8,6))\n",
    "x = np.arange(len(data)/2)\n",
    "plt.plot(x, np.cumsum(data[data.race=='b'].call), label='race == \"b\"')\n",
    "plt.plot(x, np.cumsum(data[data.race=='w'].call),  label='race == \"w\"')\n",
    "plt.xlabel('number of applications')\n",
    "plt.ylabel('number of callbacks')\n",
    "plt.title('number of callback vs. applications')\n",
    "plt.legend();"
   ]
  },
  {
   "cell_type": "markdown",
   "metadata": {},
   "source": [
    "### Q1. What test is appropriate for this problem? Does CLT apply?\n",
    "\n",
    "This is a question of difference of proportion.  The Central Limit Theorm applies because the sample is large.  \n",
    "\n",
    "One way to think about this is as if there are two experiments.  In the first, 2435 resumes are sent out with white-sounding names.  In the second, 2435 resumes are sent with black-sounding names.  In the first instance, there are 235 responses (9.7% response rate).  In the second, there are 157 (6.4% response rate).\n",
    "\n",
    "In both sub-experiments the samples are large enough to estimate the mean response rate in the general population.  For purposes of contrasting the two response rates, the samples of positive responses are large enough for CLT to apply."
   ]
  },
  {
   "cell_type": "markdown",
   "metadata": {},
   "source": [
    "### Q2. What are the null and alternate hypotheses?\n",
    "\n",
    "#### The Hypothesis\n",
    "\n",
    "$H_0$: The null hypothesis is that there is no difference between callback rate for whites and blacks.\n",
    "\n",
    "$H_A$:The alternative hypothesis is that there is a statistical difference between callback rate for whites and blacks."
   ]
  },
  {
   "cell_type": "markdown",
   "metadata": {},
   "source": [
    "### Q3. Compute margin of error, confidence interval, and p-value."
   ]
  },
  {
   "cell_type": "code",
   "execution_count": 13,
   "metadata": {},
   "outputs": [
    {
     "name": "stdout",
     "output_type": "stream",
     "text": [
      "Number of applications with \"white-sounding\" names: 2435\n",
      "Number of applications with \"black-sounding\" names: 2435\n",
      "Number of callbacks with \"white-sounding\" names: 235.0\n",
      "Number of callbacks with \"black-sounding\" names: 157.0\n"
     ]
    }
   ],
   "source": [
    "numCallsReqW = data[data.race == 'w'].call.sum()\n",
    "numCallsReqB = data[data.race == 'b'].call.sum()\n",
    "numReqW = len(data[data.race == 'w'])\n",
    "numReqB = len(data[data.race == 'b'])\n",
    "print('Number of applications with \"white-sounding\" names: ' + str(numReqW))\n",
    "print('Number of applications with \"black-sounding\" names: ' + str(numReqB))\n",
    "print('Number of callbacks with \"white-sounding\" names: ' + str(numCallsReqW))\n",
    "print('Number of callbacks with \"black-sounding\" names: ' + str(numCallsReqB))"
   ]
  },
  {
   "cell_type": "code",
   "execution_count": 14,
   "metadata": {},
   "outputs": [
    {
     "name": "stderr",
     "output_type": "stream",
     "text": [
      "C:\\Users\\saus\\Anaconda3\\lib\\site-packages\\statsmodels\\compat\\pandas.py:56: FutureWarning: The pandas.core.datetools module is deprecated and will be removed in a future version. Please use the pandas.tseries module instead.\n",
      "  from pandas.core import datetools\n"
     ]
    }
   ],
   "source": [
    "import statsmodels.api as sm\n",
    "z_score, p_value = sm.stats.proportions_ztest([157, 235], [2435, 2435])"
   ]
  },
  {
   "cell_type": "code",
   "execution_count": 15,
   "metadata": {},
   "outputs": [
    {
     "name": "stdout",
     "output_type": "stream",
     "text": [
      "p-value: 0.000040, z-score: -4.1084\n"
     ]
    }
   ],
   "source": [
    "print('p-value: {:4.6f}, z-score: {:4.4f}'.format(p_value, z_score))"
   ]
  },
  {
   "cell_type": "markdown",
   "metadata": {},
   "source": [
    "##### margin of error, confidence interval for rate of callbacks for white sounding names"
   ]
  },
  {
   "cell_type": "code",
   "execution_count": 16,
   "metadata": {},
   "outputs": [
    {
     "data": {
      "text/plain": [
       "0.096509240246406572"
      ]
     },
     "execution_count": 16,
     "metadata": {},
     "output_type": "execute_result"
    }
   ],
   "source": [
    "# proportion of callbacks for white sounding names\n",
    "p_hat_w = numCallsReqW / numReqW; p_hat_w"
   ]
  },
  {
   "cell_type": "code",
   "execution_count": 17,
   "metadata": {},
   "outputs": [
    {
     "data": {
      "text/plain": [
       "10.361702127659575"
      ]
     },
     "execution_count": 17,
     "metadata": {},
     "output_type": "execute_result"
    }
   ],
   "source": [
    "1/p_hat_w"
   ]
  },
  {
   "cell_type": "code",
   "execution_count": 18,
   "metadata": {},
   "outputs": [
    {
     "data": {
      "text/plain": [
       "0.0059840721781280661"
      ]
     },
     "execution_count": 18,
     "metadata": {},
     "output_type": "execute_result"
    }
   ],
   "source": [
    "# standard error of proportion of callbacks for white sounding names\n",
    "se_p_hat_w = np.sqrt( (p_hat_w * (1 - p_hat_w))/numReqW ); se_p_hat_w"
   ]
  },
  {
   "cell_type": "code",
   "execution_count": 19,
   "metadata": {
    "scrolled": true
   },
   "outputs": [
    {
     "name": "stdout",
     "output_type": "stream",
     "text": [
      "95% confidence interval [8.4541%, 10.8477%]\n"
     ]
    }
   ],
   "source": [
    "# 95% confidence interval for proportion of callbacks for white sounding names\n",
    "print('95% confidence interval [{:4.4f}%, {:4.4f}%]'.format(100 * (p_hat_w - 2 * se_p_hat_w), 100 * (p_hat_w + 2 * se_p_hat_w)))"
   ]
  },
  {
   "cell_type": "markdown",
   "metadata": {},
   "source": [
    "##### margin of error, confidence interval for rate of callbacks for black sounding names"
   ]
  },
  {
   "cell_type": "code",
   "execution_count": 20,
   "metadata": {},
   "outputs": [
    {
     "data": {
      "text/plain": [
       "0.064476386036960986"
      ]
     },
     "execution_count": 20,
     "metadata": {},
     "output_type": "execute_result"
    }
   ],
   "source": [
    "# proportion of callbacks for black sounding names\n",
    "p_hat_b = numCallsReqB / numReqB; p_hat_b"
   ]
  },
  {
   "cell_type": "code",
   "execution_count": 21,
   "metadata": {},
   "outputs": [
    {
     "data": {
      "text/plain": [
       "15.509554140127388"
      ]
     },
     "execution_count": 21,
     "metadata": {},
     "output_type": "execute_result"
    }
   ],
   "source": [
    "1/p_hat_b"
   ]
  },
  {
   "cell_type": "code",
   "execution_count": 22,
   "metadata": {},
   "outputs": [
    {
     "data": {
      "text/plain": [
       "0.0049771214428119461"
      ]
     },
     "execution_count": 22,
     "metadata": {},
     "output_type": "execute_result"
    }
   ],
   "source": [
    "# standard error of proportion of callbacks for black sounding names\n",
    "se_p_hat_b = np.sqrt( (p_hat_b * (1 - p_hat_b))/numReqB ); se_p_hat_b"
   ]
  },
  {
   "cell_type": "code",
   "execution_count": 23,
   "metadata": {},
   "outputs": [
    {
     "name": "stdout",
     "output_type": "stream",
     "text": [
      "95% confidence interval [5.4522%, 7.4431%]\n"
     ]
    }
   ],
   "source": [
    "# 95% confidence interval for proportion of callbacks for black sounding names\n",
    "print('95% confidence interval [{:4.4f}%, {:4.4f}%]'.format(100 * (p_hat_b - 2 * se_p_hat_b), 100 * (p_hat_b + 2 * se_p_hat_b)))"
   ]
  },
  {
   "cell_type": "markdown",
   "metadata": {},
   "source": [
    "##### margin of error, confidence interval for difference in the rate of callbacks for black and white sounding names"
   ]
  },
  {
   "cell_type": "code",
   "execution_count": 24,
   "metadata": {},
   "outputs": [
    {
     "data": {
      "text/plain": [
       "0.032032854209445585"
      ]
     },
     "execution_count": 24,
     "metadata": {},
     "output_type": "execute_result"
    }
   ],
   "source": [
    "p_hat_wMinusB = p_hat_w - p_hat_b; p_hat_wMinusB"
   ]
  },
  {
   "cell_type": "code",
   "execution_count": 25,
   "metadata": {},
   "outputs": [
    {
     "data": {
      "text/plain": [
       "0.0077833705866767544"
      ]
     },
     "execution_count": 25,
     "metadata": {},
     "output_type": "execute_result"
    }
   ],
   "source": [
    "se_p_hat_wMinusB = np.sqrt( (p_hat_w * (1 - p_hat_w))/numReqW + \n",
    "                            (p_hat_b * (1 - p_hat_b))/numReqB)   ; se_p_hat_wMinusB"
   ]
  },
  {
   "cell_type": "code",
   "execution_count": 26,
   "metadata": {},
   "outputs": [
    {
     "name": "stdout",
     "output_type": "stream",
     "text": [
      "95% confidence interval [1.6466%, 4.7600%]\n"
     ]
    }
   ],
   "source": [
    "# 95% confidence interval for difference in the rate of callbacks for black and white sounding names\n",
    "print('95% confidence interval [{:4.4f}%, {:4.4f}%]'.format(100 * (p_hat_wMinusB - 2 * se_p_hat_wMinusB),\n",
    "                                                            100 * (p_hat_wMinusB + 2 * se_p_hat_wMinusB)))"
   ]
  },
  {
   "cell_type": "markdown",
   "metadata": {},
   "source": [
    "### Q4. Write a story describing the statistical significance in the context of the original problem.\n",
    "\n",
    "There are several conclusions that can be drawn from the above statistics:\n",
    "\n",
    "1. For all applicants (without including race as a parameter), about 8% of resumes receive a call back.\n",
    "1. For applicants with 'white-sounding' names the response rate is around 9.5% with a 95% confidence interval of [8.4541%, 10.8477%]\n",
    "1. For applicants with 'black-sounding' names the response rate is around 6.5% with a 95% confidence interval of [5.4522%, 7.4431%]\n",
    "\n",
    "The data show that there is statisically signifcant difference between the response rates for applicants with 'white-sounding' and  'black-sounding' names (p-value: 0.000040).\n",
    "\n",
    "The data give an estimate for the difference of 3.2% with 95% confidence that the actual rate is between 4.8% and 1.6%."
   ]
  },
  {
   "cell_type": "markdown",
   "metadata": {},
   "source": [
    "### Q5. Does your analysis mean that race/name is the most important factor in callback success? Why or why not? If not, how would you amend your analysis?\n",
    "\n",
    "The analysis show that race is a very significant factor in callback success. On average, applicants with white-sounding names need to send out about 10 resumes to get one response; in contrast, applicants with black-sounding names need to send out about 15 resumes to get one response.\n",
    "\n",
    "The dataset includes many other columns which have been ignored in the study above.\n",
    "\n",
    "If the goal were to establish what factors are most important for callback success, the impact of the other data should be examined."
   ]
  }
 ],
 "metadata": {
  "kernelspec": {
   "display_name": "Python 3",
   "language": "python",
   "name": "python3"
  },
  "language_info": {
   "codemirror_mode": {
    "name": "ipython",
    "version": 3
   },
   "file_extension": ".py",
   "mimetype": "text/x-python",
   "name": "python",
   "nbconvert_exporter": "python",
   "pygments_lexer": "ipython3",
   "version": "3.6.3"
  }
 },
 "nbformat": 4,
 "nbformat_minor": 1
}
