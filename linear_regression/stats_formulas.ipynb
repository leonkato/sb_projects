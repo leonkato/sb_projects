{
 "cells": [
  {
   "cell_type": "markdown",
   "metadata": {},
   "source": [
    "#### Total Sum of Squares\n",
    "\n",
    "Total Sum of Squares = Explained Sum of Squares + Residual Sum of Squares\n",
    "\n",
    "$$ TSS=ESS+RSS $$\n",
    "\n",
    "#### Residual Sum-of-Squares (aka $RSS$)\n",
    "The residual sum-of-squares is one of the basic ways of quantifying how much error exists in the fitted model.\n",
    "\n",
    "$$ RSS = \\sum_{i=1}^N r_i^2 = \\sum_{i=1}^N \\left(y_i - \\left(\\beta_0 + \\beta_1 x_i\\right)\\right)^2 $$\n",
    "\n",
    "**  In english: RSS is the sum of the squared difference between actual data point and prediction. **\n",
    "\n",
    "**  In code:**\n",
    "\n",
    "``` \n",
    "RSS = sum((Y - Yhat) ** 2) \n",
    "```\n",
    "\n",
    "#### Explained Sum-of-Squares (aka $ESS$)\n",
    "\n",
    "The explained sum-of-squares measures the variance explained by the regression model.\n",
    "\n",
    "$$ESS = \\sum_{i=1}^N \\left( \\hat{y}_i - \\bar{y} \\right)^2 = \\sum_{i=1}^N \\left( \\left( \\hat{\\beta}_0 + \\hat{\\beta}_1 x_i \\right) - \\bar{y} \\right)^2$$\n",
    "\n",
    "** In english: ESS is sum of difference between actual values and mean value for each data point. **\n",
    "\n",
    "**  In code:**\n",
    "\n",
    "``` \n",
    "ESS = sum((Y - Ybar) ** 2) \n",
    "```\n",
    "\n",
    "#### The Coefficient of Determination ($R^2$)\n",
    "\n",
    "The coefficient of determination, $R^2$, tells us the percentage of the variance in the response variable $Y$ that can be explained by the linear regression model.\n",
    "\n",
    "$$ R^2 = \\frac{ESS}{TSS} $$\n",
    "\n",
    "```\n",
    "theRsquared = theESS/(theESS + theRSS)\n",
    "```\n",
    "\n",
    "#### Mean Squared Error and the $F$-Statistic\n",
    "***\n",
    "The mean squared errors are just the *averages* of the sum-of-squares errors over their respective degrees of freedom.\n",
    "\n",
    "mean squared error of explained variability:  $$MSE = \\frac{ESS}{K}$$\n",
    "\n",
    "mean squared error of residual:           $$MSR = \\frac{RSS}{N-K-1}$$\n",
    "\n",
    "$$F = \\frac{MSR}{MSE} = \\left( \\frac{R^2}{1 - R^2} \\right) \\left( \\frac{N - K - 1}{K} \\right)$$\n",
    " \n"
   ]
  },
  {
   "cell_type": "markdown",
   "metadata": {},
   "source": [
    "### The $F$-Statistic Revisited\n",
    "\n",
    "The $F$-statistic can also be used to compare two *nested* models, that is, two models trained on the same dataset where one of the models contains a *subset* of the variables of the other model. The *full* model contains $K$ variables and the *reduced* model contains a subset of these $K$ variables. This allows us to add additional variables to a base model and then test if adding the variables helped the model fit.\n",
    "\n",
    "$$F = \\frac{\\left( \\frac{RSS_{reduced} - RSS_{full}}{DF_{reduced} - DF_{full}} \\right)}{\\left( \\frac{RSS_{full}}{DF_{full}} \\right)}$$\n",
    "\n",
    "where $DF_x = N - K_x - 1$ where $K_x$ is the number of variables in model $x$."
   ]
  }
 ],
 "metadata": {
  "kernelspec": {
   "display_name": "Python 3",
   "language": "python",
   "name": "python3"
  },
  "language_info": {
   "codemirror_mode": {
    "name": "ipython",
    "version": 3
   },
   "file_extension": ".py",
   "mimetype": "text/x-python",
   "name": "python",
   "nbconvert_exporter": "python",
   "pygments_lexer": "ipython3",
   "version": "3.6.2"
  }
 },
 "nbformat": 4,
 "nbformat_minor": 2
}
